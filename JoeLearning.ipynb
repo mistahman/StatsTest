{
 "cells": [
  {
   "cell_type": "code",
   "execution_count": 18,
   "metadata": {},
   "outputs": [],
   "source": [
    "import plotly.express as px\n",
    "import plotly \n",
    "import pandas as pd\n",
    "import matplotlib\n",
    "import numpy as np\n",
    "import scipy.stats\n",
    "import openpyxl"
   ]
  },
  {
   "cell_type": "code",
   "execution_count": 4,
   "metadata": {},
   "outputs": [],
   "source": [
    "data = np.random.rand(5)\n"
   ]
  },
  {
   "cell_type": "code",
   "execution_count": 6,
   "metadata": {},
   "outputs": [
    {
     "data": {
      "text/plain": [
       "array([0.85778643, 0.92299838, 0.93551215, 0.94070324, 0.57155046])"
      ]
     },
     "execution_count": 6,
     "metadata": {},
     "output_type": "execute_result"
    }
   ],
   "source": [
    "data"
   ]
  },
  {
   "cell_type": "code",
   "execution_count": 8,
   "metadata": {},
   "outputs": [],
   "source": [
    "data2 = np.random.rand(5)\n",
    "data3= np.random.rand(5)\n",
    "data4=np.random.rand(5)\n",
    "data5=np.random.rand(5)\n"
   ]
  },
  {
   "cell_type": "code",
   "execution_count": 9,
   "metadata": {},
   "outputs": [
    {
     "data": {
      "text/plain": [
       "array([0.31683056, 0.18513491, 0.38493829, 0.11099854, 0.47545415])"
      ]
     },
     "execution_count": 9,
     "metadata": {},
     "output_type": "execute_result"
    }
   ],
   "source": [
    "data\n",
    "data2\n",
    "data3\n",
    "data4\n",
    "data5"
   ]
  },
  {
   "cell_type": "code",
   "execution_count": 17,
   "metadata": {},
   "outputs": [
    {
     "name": "stdout",
     "output_type": "stream",
     "text": [
      "T-statistic: 1.3881942210785956\n",
      "P-value: 0.20251082092417613\n",
      "Fail to reject the null hypothesis: There is no significant difference between the groups.\n"
     ]
    }
   ],
   "source": [
    "import scipy.stats as stats\n",
    "\n",
    "\n",
    "# Perform an independent t-test\n",
    "t_statistic, p_value = stats.ttest_ind(data, data2)\n",
    "\n",
    "# Output the results\n",
    "print(\"T-statistic:\", t_statistic)\n",
    "print(\"P-value:\", p_value)\n",
    "\n",
    "# Determine if the difference is statistically significant\n",
    "alpha = 0.05  # Significance level\n",
    "if p_value < alpha:\n",
    "    print(\"Reject the null hypothesis: There is a significant difference between the groups.\")\n",
    "else:\n",
    "    print(\"Fail to reject the null hypothesis: There is no significant difference between the groups.\")\n"
   ]
  },
  {
   "cell_type": "code",
   "execution_count": 15,
   "metadata": {},
   "outputs": [
    {
     "data": {
      "text/plain": [
       "array([0.85778643, 0.92299838, 0.93551215, 0.94070324, 0.57155046])"
      ]
     },
     "execution_count": 15,
     "metadata": {},
     "output_type": "execute_result"
    }
   ],
   "source": [
    "data"
   ]
  },
  {
   "cell_type": "code",
   "execution_count": 14,
   "metadata": {},
   "outputs": [
    {
     "data": {
      "text/plain": [
       "array([0.19834086, 0.67380619, 0.99264789, 0.90569194, 0.13249912])"
      ]
     },
     "execution_count": 14,
     "metadata": {},
     "output_type": "execute_result"
    }
   ],
   "source": [
    "data2"
   ]
  },
  {
   "cell_type": "code",
   "execution_count": 18,
   "metadata": {},
   "outputs": [],
   "source": [
    "test1=[10,20,30,40,50]\n",
    "test2=[1,2,3,4,5]"
   ]
  },
  {
   "cell_type": "code",
   "execution_count": 19,
   "metadata": {},
   "outputs": [
    {
     "name": "stdout",
     "output_type": "stream",
     "text": [
      "T-statistic: 3.7994267415435763\n",
      "P-value: 0.005240940516978861\n",
      "Reject the null hypothesis: There is a significant difference between the groups.\n"
     ]
    }
   ],
   "source": [
    "import scipy.stats as stats\n",
    "\n",
    "\n",
    "# Perform an independent t-test\n",
    "t_statistic, p_value = stats.ttest_ind(test1, test2)\n",
    "\n",
    "# Output the results\n",
    "print(\"T-statistic:\", t_statistic)\n",
    "print(\"P-value:\", p_value)\n",
    "\n",
    "# Determine if the difference is statistically significant\n",
    "alpha = 0.05  # Significance level\n",
    "if p_value < alpha:\n",
    "    print(\"Reject the null hypothesis: There is a significant difference between the groups.\")\n",
    "else:\n",
    "    print(\"Fail to reject the null hypothesis: There is no significant difference between the groups.\")\n"
   ]
  },
  {
   "cell_type": "code",
   "execution_count": 23,
   "metadata": {},
   "outputs": [
    {
     "name": "stdout",
     "output_type": "stream",
     "text": [
      "     Unnamed: 0 Unnamed: 1   Unnamed: 2           Unnamed: 3  \\\n",
      "0           NaN        MRN  Patient No.                  DOB   \n",
      "1           NaN    1996601            1  2005-07-03 00:00:00   \n",
      "2           NaN    1539741            2  2003-11-28 00:00:00   \n",
      "3           NaN    1878695            3  2011-12-31 00:00:00   \n",
      "4           NaN    4489643            5  2019-01-22 00:00:00   \n",
      "..          ...        ...          ...                  ...   \n",
      "108         NaN    4238568         52.2  2018-06-16 00:00:00   \n",
      "109         NaN    1659300          112  2007-02-15 00:00:00   \n",
      "110         NaN    1904421          114  2012-07-08 00:00:00   \n",
      "111         NaN    4418477          118  2015-05-12 00:00:00   \n",
      "112         NaN    1463180          119  1996-04-18 00:00:00   \n",
      "\n",
      "              Unnamed: 4           Unnamed: 5 Unnamed: 6      Unnamed: 7  \\\n",
      "0           Date of Scan  Age @ Enrollment(y)        Sex  Head Size (cm)   \n",
      "1    2023-01-09 00:00:00                   18          M             NaN   \n",
      "2    2023-01-11 00:00:00                   19          M             NaN   \n",
      "3    2023-01-11 00:00:00                   11          M             NaN   \n",
      "4    2023-01-19 00:00:00                    4          M             NaN   \n",
      "..                   ...                  ...        ...             ...   \n",
      "108  2023-08-21 00:00:00                  5.2          M             NaN   \n",
      "109  2023-08-21 00:00:00                 16.5          M             NaN   \n",
      "110  2023-08-22 00:00:00                 11.1          M             NaN   \n",
      "111  2023-08-25 00:00:00                  8.3          F             NaN   \n",
      "112  2023-08-26 00:00:00                 27.4          M             NaN   \n",
      "\n",
      "      Unnamed: 8   Unnamed: 9  ...          Unnamed: 11  \\\n",
      "0    Height (cm)  Weight (kg)  ...  Time of Day Scanned   \n",
      "1          169.5         40.4  ...             14:23:00   \n",
      "2            166         67.1  ...             09:01:00   \n",
      "3            156         55.6  ...             10:00:00   \n",
      "4            106         15.9  ...             09:59:00   \n",
      "..           ...          ...  ...                  ...   \n",
      "108          105         20.8  ...             14:21:00   \n",
      "109          168         69.6  ...             16:22:00   \n",
      "110          152         53.1  ...             09:22:00   \n",
      "111        138.8         38.3  ...             08:03:00   \n",
      "112          165         58.5  ...             14:30:00   \n",
      "\n",
      "                                         Unnamed: 12  \\\n",
      "0                                           Etiology   \n",
      "1                             X-linked hydrocephalus   \n",
      "2     Hydrocephalus associated w/ IVH of prematurity   \n",
      "3    Multiloculated intracranial cystic malformation   \n",
      "4                  Dandy-Walker malformation/variant   \n",
      "..                                               ...   \n",
      "108                     Persistent psuedomeningocele   \n",
      "109                                              IVH   \n",
      "110                         Congenital hydrocephalus   \n",
      "111               Adamantinomatous craniopharyngioma   \n",
      "112                Ventricles historically do dilate   \n",
      "\n",
      "                         Unnamed: 13  \\\n",
      "0    Date of Initial Shunt Placement   \n",
      "1                2005-07-17 00:00:00   \n",
      "2                2004-10-21 00:00:00   \n",
      "3                2012-03-20 00:00:00   \n",
      "4                2019-04-01 00:00:00   \n",
      "..                               ...   \n",
      "108              2023-02-23 00:00:00   \n",
      "109              2007-03-19 00:00:00   \n",
      "110              2012-07-16 00:00:00   \n",
      "111              2023-02-02 00:00:00   \n",
      "112              Shortly after birth   \n",
      "\n",
      "                                  Unnamed: 14                   Unnamed: 15  \\\n",
      "0    Months btwn shunt placement and PC shunt  Outpatient(OP)/Inpatient(IP)   \n",
      "1                                         209                            IP   \n",
      "2                                         218                            OP   \n",
      "3                                         129                            OP   \n",
      "4                                          45                            OP   \n",
      "..                                        ...                           ...   \n",
      "108                                         5                            OP   \n",
      "109                                       197                            OP   \n",
      "110                                       133                            OP   \n",
      "111                                         6                            IP   \n",
      "112                                       NaN                            OP   \n",
      "\n",
      "                       Unnamed: 16           Unnamed: 17 Unnamed: 18  \\\n",
      "0    PC Shunt Flow Velocity (cm/s)  PC Flow Rate (mL/hr)        FOHR   \n",
      "1                            0.012              0.573403    0.445469   \n",
      "2                            0.187              8.935538     0.50585   \n",
      "3                            0.015              0.716754    0.430209   \n",
      "4                             0.31             14.812924    0.354565   \n",
      "..                             ...                   ...         ...   \n",
      "108                          0.022               1.05124    0.307132   \n",
      "109                          0.268             12.806011    0.374695   \n",
      "110                          0.254             12.137041    0.311358   \n",
      "111                          0.522             24.943052    0.495384   \n",
      "112                          0.056              2.675883    0.411646   \n",
      "\n",
      "                           Unnamed: 19                Unnamed: 20  \n",
      "0                Current Valve/Setting  # of past shunt revisions  \n",
      "1                            Delta 1.0                          0  \n",
      "2                            Delta 1.0                        NaN  \n",
      "3                            Delta 1.5                        NaN  \n",
      "4    Ultra small medium pressure valve                        NaN  \n",
      "..                                 ...                        ...  \n",
      "108                         Certas 3.0                          0  \n",
      "109       Delta 1.0 (R), Medtronic (L)                          3  \n",
      "110                          Delta 1.5                          7  \n",
      "111                          Delta 1.0                          1  \n",
      "112                                NaN                          4  \n",
      "\n",
      "[113 rows x 21 columns]\n"
     ]
    }
   ],
   "source": [
    "#Practicing Opening Excel Sheets within Python!\n",
    "excel_file = 'For Jacob 9.8.23.xlsx'\n",
    "\n",
    "df = pd.read_excel(excel_file)\n",
    "\n",
    "print(df)\n"
   ]
  },
  {
   "cell_type": "code",
   "execution_count": null,
   "metadata": {},
   "outputs": [],
   "source": []
  }
 ],
 "metadata": {
  "kernelspec": {
   "display_name": "sandbox",
   "language": "python",
   "name": "python3"
  },
  "language_info": {
   "codemirror_mode": {
    "name": "ipython",
    "version": 3
   },
   "file_extension": ".py",
   "mimetype": "text/x-python",
   "name": "python",
   "nbconvert_exporter": "python",
   "pygments_lexer": "ipython3",
   "version": "3.9.18"
  },
  "orig_nbformat": 4
 },
 "nbformat": 4,
 "nbformat_minor": 2
}
